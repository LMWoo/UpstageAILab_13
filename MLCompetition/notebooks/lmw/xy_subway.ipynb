{
 "cells": [
  {
   "cell_type": "code",
   "execution_count": 26,
   "id": "ee9a1bee",
   "metadata": {},
   "outputs": [
    {
     "name": "stderr",
     "output_type": "stream",
     "text": [
      "/tmp/ipykernel_467030/3843070904.py:4: DtypeWarning: Columns (17,18,37) have mixed types. Specify dtype option on import or set low_memory=False.\n",
      "  train_df = pd.read_csv(\"../../../data/train_xy.csv\")\n"
     ]
    }
   ],
   "source": [
    "import pandas as pd\n",
    "from scipy.spatial import distance_matrix\n",
    "\n",
    "train_df = pd.read_csv(\"../../../data/train_xy.csv\")\n",
    "subway_df = pd.read_csv(\"../../../data/subway_feature.csv\")"
   ]
  },
  {
   "cell_type": "code",
   "execution_count": 27,
   "id": "7aa3f3b8",
   "metadata": {},
   "outputs": [],
   "source": [
    "# 위도 (Latitude) → Y 좌표\n",
    "# 경도 (Longitude) → X 좌표"
   ]
  },
  {
   "cell_type": "code",
   "execution_count": 28,
   "id": "a74c6b43",
   "metadata": {},
   "outputs": [],
   "source": [
    "subway_df[\"좌표Y\"] = subway_df[\"위도\"]\n",
    "subway_df[\"좌표X\"] = subway_df[\"경도\"]"
   ]
  },
  {
   "cell_type": "code",
   "execution_count": 29,
   "id": "6c553276",
   "metadata": {},
   "outputs": [],
   "source": [
    "train_coords = train_df[[\"좌표X\", \"좌표Y\"]]\n",
    "subway_coords = subway_df[[\"좌표X\", \"좌표Y\"]]"
   ]
  },
  {
   "cell_type": "code",
   "execution_count": 30,
   "id": "beac45cc",
   "metadata": {},
   "outputs": [],
   "source": [
    "distances = distance_matrix(train_coords, subway_coords)"
   ]
  },
  {
   "cell_type": "code",
   "execution_count": 31,
   "id": "c0e27248",
   "metadata": {},
   "outputs": [],
   "source": [
    "min_distances = distances.min(axis=1)"
   ]
  },
  {
   "cell_type": "code",
   "execution_count": 32,
   "id": "68bece50",
   "metadata": {},
   "outputs": [
    {
     "data": {
      "text/plain": [
       "(1118822,)"
      ]
     },
     "execution_count": 32,
     "metadata": {},
     "output_type": "execute_result"
    }
   ],
   "source": [
    "min_distances.shape"
   ]
  },
  {
   "cell_type": "code",
   "execution_count": 33,
   "id": "e2c034b5",
   "metadata": {},
   "outputs": [],
   "source": [
    "train_df[\"is_subway_near\"] = (min_distances <= 150).astype(int)"
   ]
  },
  {
   "cell_type": "code",
   "execution_count": 34,
   "id": "de860519",
   "metadata": {},
   "outputs": [
    {
     "data": {
      "text/plain": [
       "1    1100326\n",
       "0      18496\n",
       "Name: is_subway_near, dtype: int64"
      ]
     },
     "execution_count": 34,
     "metadata": {},
     "output_type": "execute_result"
    }
   ],
   "source": [
    "train_df[\"is_subway_near\"].value_counts()"
   ]
  },
  {
   "cell_type": "code",
   "execution_count": null,
   "id": "a983d5bb",
   "metadata": {},
   "outputs": [],
   "source": [
    "train_df.to_csv('../../../data/train_subway.csv')"
   ]
  },
  {
   "cell_type": "code",
   "execution_count": 64,
   "id": "882d994e",
   "metadata": {},
   "outputs": [
    {
     "data": {
      "text/plain": [
       "1    1100326\n",
       "0      18496\n",
       "Name: is_subway_near, dtype: int64"
      ]
     },
     "execution_count": 64,
     "metadata": {},
     "output_type": "execute_result"
    }
   ],
   "source": []
  },
  {
   "cell_type": "code",
   "execution_count": 36,
   "id": "a2cd8604",
   "metadata": {},
   "outputs": [],
   "source": [
    "import pandas as pd"
   ]
  },
  {
   "cell_type": "code",
   "execution_count": null,
   "id": "07860738",
   "metadata": {},
   "outputs": [],
   "source": []
  }
 ],
 "metadata": {
  "kernelspec": {
   "display_name": ".venv",
   "language": "python",
   "name": "python3"
  },
  "language_info": {
   "codemirror_mode": {
    "name": "ipython",
    "version": 3
   },
   "file_extension": ".py",
   "mimetype": "text/x-python",
   "name": "python",
   "nbconvert_exporter": "python",
   "pygments_lexer": "ipython3",
   "version": "3.10.13"
  }
 },
 "nbformat": 4,
 "nbformat_minor": 5
}
