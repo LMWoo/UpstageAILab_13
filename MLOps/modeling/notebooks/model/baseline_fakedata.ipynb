{
 "cells": [
  {
   "cell_type": "code",
   "execution_count": 29,
   "id": "78108dd9",
   "metadata": {},
   "outputs": [],
   "source": [
    "import matplotlib.pyplot as plt\n",
    "import pandas as pd\n",
    "import torch\n",
    "from torch.utils.data import DataLoader, TensorDataset, random_split\n"
   ]
  },
  {
   "cell_type": "code",
   "execution_count": 26,
   "id": "f728dfa3",
   "metadata": {},
   "outputs": [
    {
     "name": "stdout",
     "output_type": "stream",
     "text": [
      "Using device: cuda\n"
     ]
    }
   ],
   "source": [
    "device = torch.device(\"cuda\" if torch.cuda.is_available() else \"cpu\")\n",
    "print(\"Using device:\", device)"
   ]
  },
  {
   "cell_type": "code",
   "execution_count": 16,
   "id": "62ca3bdc",
   "metadata": {},
   "outputs": [
    {
     "name": "stderr",
     "output_type": "stream",
     "text": [
      "/tmp/ipykernel_656946/1186843771.py:1: DtypeWarning: Columns (16,17,36) have mixed types. Specify dtype option on import or set low_memory=False.\n",
      "  df = pd.read_csv('../../mlops_data/train.csv')\n"
     ]
    }
   ],
   "source": [
    "df = pd.read_csv('../../mlops_data/train.csv')"
   ]
  },
  {
   "cell_type": "code",
   "execution_count": 17,
   "id": "971933e4",
   "metadata": {},
   "outputs": [],
   "source": [
    "def create_lstm_sequences(values, window_size=5):\n",
    "    X, y = [], []\n",
    "    for i in range(len(values) - window_size):\n",
    "        X.append(values[i:i+window_size])\n",
    "        y.append(values[i+window_size])\n",
    "    return X, y"
   ]
  },
  {
   "cell_type": "code",
   "execution_count": null,
   "id": "13cce264",
   "metadata": {},
   "outputs": [],
   "source": [
    "df[\"계약일자\"] = pd.to_datetime(df[\"계약년월\"].astype(str) + df[\"계약일\"].astype(str).str.zfill(2), format=\"%Y%m%d\")\n",
    "df[\"단지ID\"] = df[\"시군구\"].str.strip() + \"_\" + df[\"아파트명\"].str.strip()\n",
    "df = df.sort_values(by=[\"단지ID\", \"계약일자\"])\n",
    "\n",
    "all_X, all_y = [], []\n",
    "for _, group in df.groupby(\"단지ID\"):\n",
    "    values = group[\"target\"].tolist()\n",
    "    if len(values) > 5:\n",
    "        X_seq, y_seq = create_lstm_sequences(values, window_size=5)\n",
    "        all_X.extend(X_seq)\n",
    "        all_y.extend(y_seq)"
   ]
  },
  {
   "cell_type": "code",
   "execution_count": 20,
   "id": "a88af1a1",
   "metadata": {},
   "outputs": [],
   "source": [
    "X_tensor = torch.tensor(all_X, dtype=torch.float32).unsqueeze(-1)\n",
    "y_tensor = torch.tensor(all_y, dtype=torch.float32).unsqueeze(1)"
   ]
  },
  {
   "cell_type": "code",
   "execution_count": 23,
   "id": "797c8add",
   "metadata": {},
   "outputs": [],
   "source": [
    "dataset = TensorDataset(X_tensor, y_tensor)\n",
    "train_size = int(len(dataset) * 0.8)\n",
    "val_size = len(dataset) - train_size\n",
    "train_set, val_set = random_split(dataset, [train_size, val_size])"
   ]
  },
  {
   "cell_type": "code",
   "execution_count": 24,
   "id": "d3a1c531",
   "metadata": {},
   "outputs": [],
   "source": [
    "train_loader = DataLoader(train_set, batch_size=64, shuffle=True)\n",
    "val_loader = DataLoader(val_set, batch_size=64, shuffle=False)"
   ]
  },
  {
   "cell_type": "code",
   "execution_count": 25,
   "id": "fec6bb4c",
   "metadata": {},
   "outputs": [],
   "source": [
    "import torch.nn as nn\n",
    "\n",
    "class LSTMModel(nn.Module):\n",
    "    def __init__(self, input_size=1, hidden_size=64, num_layers=1):\n",
    "        super().__init__()\n",
    "        self.lstm = nn.LSTM(input_size, hidden_size, num_layers, batch_first=True)\n",
    "        self.fc = nn.Linear(hidden_size, 1)\n",
    "    \n",
    "    def forward(self, x):\n",
    "        out, _ = self.lstm(x)\n",
    "        out = out[:, -1, :]\n",
    "        out = self.fc(out)\n",
    "        return out"
   ]
  },
  {
   "cell_type": "code",
   "execution_count": 27,
   "id": "6d10608f",
   "metadata": {},
   "outputs": [],
   "source": [
    "model = LSTMModel().to(device)\n",
    "creterion = nn.MSELoss()\n",
    "optimizer = torch.optim.Adam(model.parameters(), lr=0.001)"
   ]
  },
  {
   "cell_type": "code",
   "execution_count": 28,
   "id": "b2173764",
   "metadata": {},
   "outputs": [
    {
     "name": "stdout",
     "output_type": "stream",
     "text": [
      "Epoch [1/20] - Train Loss: 5541731585.2920, Val Loss: 5538895037.5075\n",
      "Epoch [2/20] - Train Loss: 5501606216.5988, Val Loss: 5497880528.9554\n",
      "Epoch [3/20] - Train Loss: 5460234933.4832, Val Loss: 5456836731.3169\n",
      "Epoch [4/20] - Train Loss: 5419358910.0956, Val Loss: 5416048173.1376\n",
      "Epoch [5/20] - Train Loss: 5377296931.4321, Val Loss: 5372807000.6012\n",
      "Epoch [6/20] - Train Loss: 5334971690.6044, Val Loss: 5331039524.0663\n",
      "Epoch [7/20] - Train Loss: 5293407226.9026, Val Loss: 5289561822.7347\n",
      "Epoch [8/20] - Train Loss: 5252129559.0613, Val Loss: 5248365464.7278\n",
      "Epoch [9/20] - Train Loss: 5211094312.8906, Val Loss: 5207400398.5539\n",
      "Epoch [10/20] - Train Loss: 5170334447.3959, Val Loss: 5166738920.4052\n",
      "Epoch [11/20] - Train Loss: 5129889429.6731, Val Loss: 5126367375.6518\n",
      "Epoch [12/20] - Train Loss: 5089708756.0177, Val Loss: 5086242342.8531\n",
      "Epoch [13/20] - Train Loss: 5049774712.4403, Val Loss: 5046405781.7461\n",
      "Epoch [14/20] - Train Loss: 5010128360.6153, Val Loss: 5006847281.1228\n",
      "Epoch [15/20] - Train Loss: 4970758677.1130, Val Loss: 4967564653.4259\n",
      "Epoch [16/20] - Train Loss: 4931687800.3627, Val Loss: 4928551908.2773\n",
      "Epoch [17/20] - Train Loss: 4892873803.4634, Val Loss: 4889809515.6830\n",
      "Epoch [18/20] - Train Loss: 4854319687.4895, Val Loss: 4851348731.9197\n",
      "Epoch [19/20] - Train Loss: 4815375111.2832, Val Loss: 4811780443.9515\n",
      "Epoch [20/20] - Train Loss: 4776019917.8571, Val Loss: 4772515380.5563\n"
     ]
    }
   ],
   "source": [
    "train_losses, val_losses = [], []\n",
    "num_epochs = 20\n",
    "\n",
    "for epoch in range(num_epochs):\n",
    "    model.train()\n",
    "    train_loss = 0\n",
    "    for X_batch, y_batch in train_loader:\n",
    "        X_batch, y_batch = X_batch.to(device), y_batch.to(device)\n",
    "        optimizer.zero_grad()\n",
    "        pred = model(X_batch)\n",
    "        loss = creterion(pred, y_batch)\n",
    "        loss.backward()\n",
    "        optimizer.step()\n",
    "        train_loss += loss.item() * X_batch.size(0)\n",
    "    \n",
    "    train_loss /= len(train_loader.dataset)\n",
    "    train_losses.append(train_loss)\n",
    "\n",
    "    model.eval()\n",
    "    val_loss = 0\n",
    "    with torch.no_grad():\n",
    "        for X_batch, y_batch in val_loader:\n",
    "            X_batch, y_batch = X_batch.to(device), y_batch.to(device)\n",
    "            pred = model(X_batch)\n",
    "            loss = creterion(pred, y_batch)\n",
    "            val_loss += loss.item() * X_batch.size(0)\n",
    "    \n",
    "    val_loss /= len(val_loader.dataset)\n",
    "    val_losses.append(val_loss)\n",
    "\n",
    "    print(f\"Epoch [{epoch+1}/{num_epochs}] - Train Loss: {train_loss:.4f}, Val Loss: {val_loss:.4f}\")"
   ]
  },
  {
   "cell_type": "code",
   "execution_count": 30,
   "id": "65499b9e",
   "metadata": {},
   "outputs": [
    {
     "data": {
      "image/png": "[encoded data removed]",
      "text/plain": [
       "<Figure size 640x480 with 1 Axes>"
      ]
     },
     "metadata": {},
     "output_type": "display_data"
    }
   ],
   "source": [
    "plt.plot(train_losses, label=\"Train Loss\")\n",
    "plt.plot(val_losses, label=\"Validation Loss\")\n",
    "plt.xlabel(\"Epoch\")\n",
    "plt.ylabel(\"MSE Loss\")\n",
    "plt.title(\"LSTM Training Curve\")\n",
    "plt.legend()\n",
    "plt.grid(True)\n",
    "plt.show()"
   ]
  },
  {
   "cell_type": "code",
   "execution_count": null,
   "id": "38e65070",
   "metadata": {},
   "outputs": [],
   "source": []
  }
 ],
 "metadata": {
  "kernelspec": {
   "display_name": "mlops",
   "language": "python",
   "name": "python3"
  },
  "language_info": {
   "codemirror_mode": {
    "name": "ipython",
    "version": 3
   },
   "file_extension": ".py",
   "mimetype": "text/x-python",
   "name": "python",
   "nbconvert_exporter": "python",
   "pygments_lexer": "ipython3",
   "version": "3.10.13"
  }
 },
 "nbformat": 4,
 "nbformat_minor": 5
}
