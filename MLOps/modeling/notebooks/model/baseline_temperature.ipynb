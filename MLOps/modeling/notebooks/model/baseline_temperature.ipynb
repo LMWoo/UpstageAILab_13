{
 "cells": [
  {
   "cell_type": "code",
   "execution_count": 1,
   "id": "78108dd9",
   "metadata": {},
   "outputs": [],
   "source": [
    "import matplotlib.pyplot as plt\n",
    "import pandas as pd\n",
    "import numpy as np\n",
    "import torch\n",
    "import torch.nn as nn\n",
    "from torch.utils.data import DataLoader, TensorDataset\n",
    "from sklearn.model_selection import train_test_split\n",
    "from sklearn.preprocessing import MinMaxScaler"
   ]
  },
  {
   "cell_type": "code",
   "execution_count": 2,
   "id": "f728dfa3",
   "metadata": {},
   "outputs": [
    {
     "name": "stdout",
     "output_type": "stream",
     "text": [
      "Using device: cuda\n"
     ]
    }
   ],
   "source": [
    "device = torch.device(\"cuda\" if torch.cuda.is_available() else \"cpu\")\n",
    "print(\"Using device:\", device)"
   ]
  },
  {
   "cell_type": "code",
   "execution_count": 3,
   "id": "62ca3bdc",
   "metadata": {},
   "outputs": [],
   "source": [
    "df = pd.read_csv('../../mlops_data/TA_data.csv')"
   ]
  },
  {
   "cell_type": "code",
   "execution_count": 4,
   "id": "c6715644",
   "metadata": {},
   "outputs": [
    {
     "data": {
      "text/html": [
       "<div>\n",
       "<style scoped>\n",
       "    .dataframe tbody tr th:only-of-type {\n",
       "        vertical-align: middle;\n",
       "    }\n",
       "\n",
       "    .dataframe tbody tr th {\n",
       "        vertical-align: top;\n",
       "    }\n",
       "\n",
       "    .dataframe thead th {\n",
       "        text-align: right;\n",
       "    }\n",
       "</style>\n",
       "<table border=\"1\" class=\"dataframe\">\n",
       "  <thead>\n",
       "    <tr style=\"text-align: right;\">\n",
       "      <th></th>\n",
       "      <th>날짜</th>\n",
       "      <th>TA_AVG</th>\n",
       "      <th>TA_MAX</th>\n",
       "      <th>TA_MIN</th>\n",
       "    </tr>\n",
       "  </thead>\n",
       "  <tbody>\n",
       "    <tr>\n",
       "      <th>0</th>\n",
       "      <td>1907-10-01</td>\n",
       "      <td>13.5</td>\n",
       "      <td>20.7</td>\n",
       "      <td>7.9</td>\n",
       "    </tr>\n",
       "    <tr>\n",
       "      <th>1</th>\n",
       "      <td>1907-10-02</td>\n",
       "      <td>16.2</td>\n",
       "      <td>22.0</td>\n",
       "      <td>7.9</td>\n",
       "    </tr>\n",
       "    <tr>\n",
       "      <th>2</th>\n",
       "      <td>1907-10-03</td>\n",
       "      <td>16.2</td>\n",
       "      <td>21.3</td>\n",
       "      <td>13.1</td>\n",
       "    </tr>\n",
       "    <tr>\n",
       "      <th>3</th>\n",
       "      <td>1907-10-04</td>\n",
       "      <td>16.5</td>\n",
       "      <td>22.0</td>\n",
       "      <td>11.2</td>\n",
       "    </tr>\n",
       "    <tr>\n",
       "      <th>4</th>\n",
       "      <td>1907-10-05</td>\n",
       "      <td>17.6</td>\n",
       "      <td>25.4</td>\n",
       "      <td>10.9</td>\n",
       "    </tr>\n",
       "  </tbody>\n",
       "</table>\n",
       "</div>"
      ],
      "text/plain": [
       "           날짜  TA_AVG  TA_MAX  TA_MIN\n",
       "0  1907-10-01    13.5    20.7     7.9\n",
       "1  1907-10-02    16.2    22.0     7.9\n",
       "2  1907-10-03    16.2    21.3    13.1\n",
       "3  1907-10-04    16.5    22.0    11.2\n",
       "4  1907-10-05    17.6    25.4    10.9"
      ]
     },
     "execution_count": 4,
     "metadata": {},
     "output_type": "execute_result"
    }
   ],
   "source": [
    "df.head(5)"
   ]
  },
  {
   "cell_type": "code",
   "execution_count": 5,
   "id": "2cb24477",
   "metadata": {},
   "outputs": [
    {
     "data": {
      "text/plain": [
       "41787"
      ]
     },
     "execution_count": 5,
     "metadata": {},
     "output_type": "execute_result"
    }
   ],
   "source": [
    "df.shape[0]"
   ]
  },
  {
   "cell_type": "code",
   "execution_count": 6,
   "id": "c472e5ce",
   "metadata": {},
   "outputs": [],
   "source": [
    "WINDOW_SIZE = 30"
   ]
  },
  {
   "cell_type": "code",
   "execution_count": 7,
   "id": "80d48b2a",
   "metadata": {},
   "outputs": [],
   "source": [
    "outputs = [\"TA_AVG\", \"TA_MAX\", \"TA_MIN\"]"
   ]
  },
  {
   "cell_type": "code",
   "execution_count": 8,
   "id": "be5aa51b",
   "metadata": {},
   "outputs": [],
   "source": [
    "features = df[outputs].values\n",
    "scaler = MinMaxScaler()\n",
    "features_scaled = scaler.fit_transform(features)"
   ]
  },
  {
   "cell_type": "code",
   "execution_count": 9,
   "id": "971933e4",
   "metadata": {},
   "outputs": [],
   "source": [
    "def create_lstm_sequences(values, window_size=7):\n",
    "    X, y = [], []\n",
    "    for i in range(len(values) - window_size):\n",
    "        X.append(values[i:i+window_size])\n",
    "        y.append(values[i+window_size])\n",
    "    return np.array(X), np.array(y)"
   ]
  },
  {
   "cell_type": "code",
   "execution_count": 10,
   "id": "38e65070",
   "metadata": {},
   "outputs": [],
   "source": [
    "X, y = create_lstm_sequences(features_scaled, window_size=WINDOW_SIZE)"
   ]
  },
  {
   "cell_type": "code",
   "execution_count": 11,
   "id": "4646ec48",
   "metadata": {},
   "outputs": [],
   "source": [
    "X_train, X_val, y_train, y_val = train_test_split(X, y, test_size=0.2, random_state=2025)"
   ]
  },
  {
   "cell_type": "code",
   "execution_count": 12,
   "id": "a0318473",
   "metadata": {},
   "outputs": [
    {
     "name": "stdout",
     "output_type": "stream",
     "text": [
      "X_train shape: torch.Size([33405, 30, 3]), y_train shape: torch.Size([33405, 3])\n"
     ]
    }
   ],
   "source": [
    "X_train_tensor = torch.tensor(X_train, dtype=torch.float32)\n",
    "y_train_tensor = torch.tensor(y_train, dtype=torch.float32)\n",
    "X_val_tensor = torch.tensor(X_val, dtype=torch.float32)\n",
    "y_val_tensor = torch.tensor(y_val, dtype=torch.float32)\n",
    "\n",
    "print(f\"X_train shape: {X_train_tensor.shape}, y_train shape: {y_train_tensor.shape}\")"
   ]
  },
  {
   "cell_type": "code",
   "execution_count": 13,
   "id": "44c4be81",
   "metadata": {},
   "outputs": [],
   "source": [
    "train_loader = DataLoader(TensorDataset(X_train_tensor, y_train_tensor), batch_size=64, shuffle=True)\n",
    "val_loader = DataLoader(TensorDataset(X_val_tensor, y_val_tensor), batch_size=64)"
   ]
  },
  {
   "cell_type": "code",
   "execution_count": 14,
   "id": "343f537e",
   "metadata": {},
   "outputs": [],
   "source": [
    "class MultiOutputLSTM(nn.Module):\n",
    "    def __init__(self, input_size=3, hidden_size=64, num_layers=1):\n",
    "        super().__init__()\n",
    "        self.lstm = nn.LSTM(input_size, hidden_size, num_layers, batch_first=True)\n",
    "        self.fc = nn.Linear(hidden_size, len(outputs))\n",
    "    \n",
    "    def forward(self, x):\n",
    "        out, _ = self.lstm(x)\n",
    "        return self.fc(out[:, -1, :])"
   ]
  },
  {
   "cell_type": "code",
   "execution_count": 15,
   "id": "7c67108e",
   "metadata": {},
   "outputs": [],
   "source": [
    "model = MultiOutputLSTM().to(device)\n",
    "criterion = nn.MSELoss()\n",
    "optimizer = torch.optim.Adam(model.parameters(), lr=0.001)"
   ]
  },
  {
   "cell_type": "code",
   "execution_count": 16,
   "id": "17228f0a",
   "metadata": {},
   "outputs": [
    {
     "name": "stdout",
     "output_type": "stream",
     "text": [
      "[1/20] Train Loss: 0.0177, Val Loss: 0.0007\n",
      "[2/20] Train Loss: 0.0007, Val Loss: 0.0006\n",
      "[3/20] Train Loss: 0.0007, Val Loss: 0.0006\n",
      "[4/20] Train Loss: 0.0007, Val Loss: 0.0006\n",
      "[5/20] Train Loss: 0.0006, Val Loss: 0.0006\n",
      "[6/20] Train Loss: 0.0006, Val Loss: 0.0005\n",
      "[7/20] Train Loss: 0.0006, Val Loss: 0.0005\n",
      "[8/20] Train Loss: 0.0006, Val Loss: 0.0005\n",
      "[9/20] Train Loss: 0.0005, Val Loss: 0.0004\n",
      "[10/20] Train Loss: 0.0005, Val Loss: 0.0004\n",
      "[11/20] Train Loss: 0.0005, Val Loss: 0.0004\n",
      "[12/20] Train Loss: 0.0004, Val Loss: 0.0004\n",
      "[13/20] Train Loss: 0.0004, Val Loss: 0.0004\n",
      "[14/20] Train Loss: 0.0004, Val Loss: 0.0004\n",
      "[15/20] Train Loss: 0.0004, Val Loss: 0.0004\n",
      "[16/20] Train Loss: 0.0004, Val Loss: 0.0004\n",
      "[17/20] Train Loss: 0.0004, Val Loss: 0.0005\n",
      "[18/20] Train Loss: 0.0004, Val Loss: 0.0004\n",
      "[19/20] Train Loss: 0.0004, Val Loss: 0.0004\n",
      "[20/20] Train Loss: 0.0004, Val Loss: 0.0004\n"
     ]
    }
   ],
   "source": [
    "train_losses, val_losses = [], []\n",
    "epochs = 20\n",
    "\n",
    "for epoch in range(epochs):\n",
    "    model.train()\n",
    "    train_loss = 0\n",
    "    for Xb, yb in train_loader:\n",
    "        Xb, yb = Xb.to(device), yb.to(device)\n",
    "        optimizer.zero_grad()\n",
    "        loss = criterion(model(Xb), yb)\n",
    "        loss.backward()\n",
    "        optimizer.step()\n",
    "        train_loss += loss.item() * Xb.size(0)\n",
    "    train_loss /= len(train_loader.dataset)\n",
    "    train_losses.append(train_loss)\n",
    "\n",
    "    model.eval()\n",
    "    val_loss = 0\n",
    "    with torch.no_grad():\n",
    "        for Xb, yb in val_loader:\n",
    "            Xb, yb = Xb.to(device), yb.to(device)\n",
    "            loss = criterion(model(Xb), yb)\n",
    "            val_loss += loss.item() * Xb.size(0)\n",
    "    val_loss /= len(val_loader.dataset)\n",
    "    val_losses.append(val_loss)\n",
    "\n",
    "    print(f\"[{epoch+1}/{epochs}] Train Loss: {train_loss:.4f}, Val Loss: {val_loss:.4f}\")"
   ]
  },
  {
   "cell_type": "code",
   "execution_count": 17,
   "id": "6c938efa",
   "metadata": {},
   "outputs": [
    {
     "data": {
      "image/png": "[encoded data removed]",
      "text/plain": [
       "<Figure size 640x480 with 1 Axes>"
      ]
     },
     "metadata": {},
     "output_type": "display_data"
    }
   ],
   "source": [
    "plt.plot(train_losses, label=\"Train Loss\")\n",
    "plt.plot(val_loss, label = \"Validation Loss\")\n",
    "plt.title(\"Multi-output LSTM Loss\")\n",
    "plt.xlabel(\"Epoch\")\n",
    "plt.ylabel(\"MSE\")\n",
    "plt.legend()\n",
    "plt.grid(True)\n",
    "plt.show()"
   ]
  },
  {
   "cell_type": "code",
   "execution_count": 18,
   "id": "0d278d27",
   "metadata": {},
   "outputs": [],
   "source": [
    "torch.save(model.state_dict(), \"../../models/lstm_temperature.pth\")"
   ]
  },
  {
   "cell_type": "code",
   "execution_count": 19,
   "id": "47211066",
   "metadata": {},
   "outputs": [
    {
     "data": {
      "text/plain": [
       "MultiOutputLSTM(\n",
       "  (lstm): LSTM(3, 64, batch_first=True)\n",
       "  (fc): Linear(in_features=64, out_features=3, bias=True)\n",
       ")"
      ]
     },
     "execution_count": 19,
     "metadata": {},
     "output_type": "execute_result"
    }
   ],
   "source": [
    "model.load_state_dict(torch.load(\"../../models/lstm_temperature.pth\", map_location=torch.device(\"cpu\")))\n",
    "model.to(device)"
   ]
  },
  {
   "cell_type": "code",
   "execution_count": 20,
   "id": "65ba377d",
   "metadata": {},
   "outputs": [
    {
     "data": {
      "text/plain": [
       "(30, 3)"
      ]
     },
     "execution_count": 20,
     "metadata": {},
     "output_type": "execute_result"
    }
   ],
   "source": [
    "fake_test_data = np.random.normal(loc=15, scale=3, size=(WINDOW_SIZE, len(outputs)))\n",
    "fake_test_data.shape"
   ]
  },
  {
   "cell_type": "code",
   "execution_count": 21,
   "id": "b9ef3d8f",
   "metadata": {},
   "outputs": [],
   "source": [
    "model.eval()\n",
    "with torch.no_grad():\n",
    "    input_scaled = scaler.transform(fake_test_data)\n",
    "    input_tensor = torch.tensor(input_scaled, dtype=torch.float32).unsqueeze(0).to(device)\n",
    "    output = model(input_tensor)\n",
    "    prediction = output.cpu().numpy().squeeze()\n",
    "    result = scaler.inverse_transform([prediction])"
   ]
  },
  {
   "cell_type": "code",
   "execution_count": 22,
   "id": "2e5d1706",
   "metadata": {},
   "outputs": [
    {
     "name": "stdout",
     "output_type": "stream",
     "text": [
      "TA_AVG: 12.07379313707351, TA_MAX: 15.117873072624205, TA_MIN: 10.762934446334855\n"
     ]
    }
   ],
   "source": [
    "print(f\"{outputs[0]}: {result[0][0]}, {outputs[1]}: {result[0][1]}, {outputs[2]}: {result[0][2]}\")"
   ]
  },
  {
   "cell_type": "code",
   "execution_count": null,
   "id": "dee1e21e",
   "metadata": {},
   "outputs": [],
   "source": []
  }
 ],
 "metadata": {
  "kernelspec": {
   "display_name": "mlops",
   "language": "python",
   "name": "python3"
  },
  "language_info": {
   "codemirror_mode": {
    "name": "ipython",
    "version": 3
   },
   "file_extension": ".py",
   "mimetype": "text/x-python",
   "name": "python",
   "nbconvert_exporter": "python",
   "pygments_lexer": "ipython3",
   "version": "3.10.13"
  }
 },
 "nbformat": 4,
 "nbformat_minor": 5
}
