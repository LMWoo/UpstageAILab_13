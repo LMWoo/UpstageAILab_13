{
 "cells": [
  {
   "cell_type": "code",
   "execution_count": 1,
   "id": "cf524d76",
   "metadata": {},
   "outputs": [
    {
     "name": "stdout",
     "output_type": "stream",
     "text": [
      "/data/ephemeral/home/mlops-cloud-project-mlops_1/modeling/src/airflow/notebooks/../../../../\n"
     ]
    }
   ],
   "source": [
    "import os\n",
    "import sys\n",
    "\n",
    "project_path = os.path.join( os.getcwd(), '../../../../')\n",
    "sys.path.append(project_path)\n",
    "print(project_path)\n",
    "\n",
    "import numpy as np\n",
    "import pandas as pd\n",
    "import matplotlib.pyplot as plt\n",
    "import matplotlib.dates as mdates\n",
    "import seaborn as sns\n",
    "import torch\n",
    "import torch.nn as nn\n",
    "from torch.utils.data import DataLoader, TensorDataset\n",
    "from sklearn.preprocessing import MinMaxScaler\n",
    "from sklearn.model_selection import train_test_split"
   ]
  },
  {
   "cell_type": "code",
   "execution_count": 2,
   "id": "65c9e25e",
   "metadata": {},
   "outputs": [],
   "source": [
    "temperature_df = pd.read_csv(os.path.join(project_path, 'data/TA_data.csv'))\n",
    "temperature_df_train = temperature_df[-365*5:-365].reset_index(drop=True)\n",
    "temperature_df_inference = temperature_df[-365:].reset_index(drop=True)\n",
    "temperature_df = temperature_df_inference"
   ]
  },
  {
   "cell_type": "code",
   "execution_count": 3,
   "id": "f71f81ee",
   "metadata": {},
   "outputs": [
    {
     "data": {
      "text/plain": [
       "(365, 4)"
      ]
     },
     "execution_count": 3,
     "metadata": {},
     "output_type": "execute_result"
    }
   ],
   "source": [
    "temperature_df.shape"
   ]
  },
  {
   "cell_type": "code",
   "execution_count": 4,
   "id": "60e766da",
   "metadata": {},
   "outputs": [
    {
     "data": {
      "text/html": [
       "<div>\n",
       "<style scoped>\n",
       "    .dataframe tbody tr th:only-of-type {\n",
       "        vertical-align: middle;\n",
       "    }\n",
       "\n",
       "    .dataframe tbody tr th {\n",
       "        vertical-align: top;\n",
       "    }\n",
       "\n",
       "    .dataframe thead th {\n",
       "        text-align: right;\n",
       "    }\n",
       "</style>\n",
       "<table border=\"1\" class=\"dataframe\">\n",
       "  <thead>\n",
       "    <tr style=\"text-align: right;\">\n",
       "      <th></th>\n",
       "      <th>날짜</th>\n",
       "      <th>TA_AVG</th>\n",
       "      <th>TA_MAX</th>\n",
       "      <th>TA_MIN</th>\n",
       "    </tr>\n",
       "  </thead>\n",
       "  <tbody>\n",
       "    <tr>\n",
       "      <th>0</th>\n",
       "      <td>2024-05-28</td>\n",
       "      <td>20.4</td>\n",
       "      <td>26.1</td>\n",
       "      <td>14.3</td>\n",
       "    </tr>\n",
       "  </tbody>\n",
       "</table>\n",
       "</div>"
      ],
      "text/plain": [
       "           날짜  TA_AVG  TA_MAX  TA_MIN\n",
       "0  2024-05-28    20.4    26.1    14.3"
      ]
     },
     "execution_count": 4,
     "metadata": {},
     "output_type": "execute_result"
    }
   ],
   "source": [
    "temperature_df.head(1)"
   ]
  },
  {
   "cell_type": "code",
   "execution_count": 5,
   "id": "a70bff3f",
   "metadata": {},
   "outputs": [
    {
     "data": {
      "text/html": [
       "<div>\n",
       "<style scoped>\n",
       "    .dataframe tbody tr th:only-of-type {\n",
       "        vertical-align: middle;\n",
       "    }\n",
       "\n",
       "    .dataframe tbody tr th {\n",
       "        vertical-align: top;\n",
       "    }\n",
       "\n",
       "    .dataframe thead th {\n",
       "        text-align: right;\n",
       "    }\n",
       "</style>\n",
       "<table border=\"1\" class=\"dataframe\">\n",
       "  <thead>\n",
       "    <tr style=\"text-align: right;\">\n",
       "      <th></th>\n",
       "      <th>날짜</th>\n",
       "      <th>TA_AVG</th>\n",
       "      <th>TA_MAX</th>\n",
       "      <th>TA_MIN</th>\n",
       "    </tr>\n",
       "  </thead>\n",
       "  <tbody>\n",
       "    <tr>\n",
       "      <th>364</th>\n",
       "      <td>2025-05-27</td>\n",
       "      <td>-99.0</td>\n",
       "      <td>23.7</td>\n",
       "      <td>14.7</td>\n",
       "    </tr>\n",
       "    <tr>\n",
       "      <th>226</th>\n",
       "      <td>2025-01-09</td>\n",
       "      <td>-9.7</td>\n",
       "      <td>-6.1</td>\n",
       "      <td>-11.6</td>\n",
       "    </tr>\n",
       "    <tr>\n",
       "      <th>252</th>\n",
       "      <td>2025-02-04</td>\n",
       "      <td>-9.0</td>\n",
       "      <td>-5.3</td>\n",
       "      <td>-11.5</td>\n",
       "    </tr>\n",
       "    <tr>\n",
       "      <th>253</th>\n",
       "      <td>2025-02-05</td>\n",
       "      <td>-8.6</td>\n",
       "      <td>-3.7</td>\n",
       "      <td>-11.8</td>\n",
       "    </tr>\n",
       "    <tr>\n",
       "      <th>255</th>\n",
       "      <td>2025-02-07</td>\n",
       "      <td>-8.0</td>\n",
       "      <td>-4.7</td>\n",
       "      <td>-10.7</td>\n",
       "    </tr>\n",
       "  </tbody>\n",
       "</table>\n",
       "</div>"
      ],
      "text/plain": [
       "             날짜  TA_AVG  TA_MAX  TA_MIN\n",
       "364  2025-05-27   -99.0    23.7    14.7\n",
       "226  2025-01-09    -9.7    -6.1   -11.6\n",
       "252  2025-02-04    -9.0    -5.3   -11.5\n",
       "253  2025-02-05    -8.6    -3.7   -11.8\n",
       "255  2025-02-07    -8.0    -4.7   -10.7"
      ]
     },
     "execution_count": 5,
     "metadata": {},
     "output_type": "execute_result"
    }
   ],
   "source": [
    "temperature_df_sorted = temperature_df.sort_values(by=\"TA_AVG\", ascending=True)\n",
    "temperature_df_sorted.head(5)"
   ]
  },
  {
   "cell_type": "code",
   "execution_count": 6,
   "id": "bb2e4276",
   "metadata": {},
   "outputs": [],
   "source": [
    "temperature_columns = ['TA_AVG', 'TA_MAX', 'TA_MIN']"
   ]
  },
  {
   "cell_type": "code",
   "execution_count": 7,
   "id": "caf8da5e",
   "metadata": {},
   "outputs": [],
   "source": [
    "temperature_df_timestamp = temperature_df[['날짜']].copy()\n",
    "temperature_df_timestamp.rename(columns={'날짜': 'datetime'}, inplace=True)\n",
    "temperature_df = temperature_df[temperature_columns]"
   ]
  },
  {
   "cell_type": "code",
   "execution_count": 8,
   "id": "13fe8be5",
   "metadata": {},
   "outputs": [
    {
     "data": {
      "text/html": [
       "<div>\n",
       "<style scoped>\n",
       "    .dataframe tbody tr th:only-of-type {\n",
       "        vertical-align: middle;\n",
       "    }\n",
       "\n",
       "    .dataframe tbody tr th {\n",
       "        vertical-align: top;\n",
       "    }\n",
       "\n",
       "    .dataframe thead th {\n",
       "        text-align: right;\n",
       "    }\n",
       "</style>\n",
       "<table border=\"1\" class=\"dataframe\">\n",
       "  <thead>\n",
       "    <tr style=\"text-align: right;\">\n",
       "      <th></th>\n",
       "      <th>datetime</th>\n",
       "    </tr>\n",
       "  </thead>\n",
       "  <tbody>\n",
       "    <tr>\n",
       "      <th>0</th>\n",
       "      <td>2024-05-28</td>\n",
       "    </tr>\n",
       "  </tbody>\n",
       "</table>\n",
       "</div>"
      ],
      "text/plain": [
       "     datetime\n",
       "0  2024-05-28"
      ]
     },
     "execution_count": 8,
     "metadata": {},
     "output_type": "execute_result"
    }
   ],
   "source": [
    "temperature_df_timestamp.head(1)"
   ]
  },
  {
   "cell_type": "code",
   "execution_count": 9,
   "id": "1cac64d7",
   "metadata": {},
   "outputs": [
    {
     "data": {
      "text/html": [
       "<div>\n",
       "<style scoped>\n",
       "    .dataframe tbody tr th:only-of-type {\n",
       "        vertical-align: middle;\n",
       "    }\n",
       "\n",
       "    .dataframe tbody tr th {\n",
       "        vertical-align: top;\n",
       "    }\n",
       "\n",
       "    .dataframe thead th {\n",
       "        text-align: right;\n",
       "    }\n",
       "</style>\n",
       "<table border=\"1\" class=\"dataframe\">\n",
       "  <thead>\n",
       "    <tr style=\"text-align: right;\">\n",
       "      <th></th>\n",
       "      <th>TA_AVG</th>\n",
       "      <th>TA_MAX</th>\n",
       "      <th>TA_MIN</th>\n",
       "    </tr>\n",
       "  </thead>\n",
       "  <tbody>\n",
       "    <tr>\n",
       "      <th>0</th>\n",
       "      <td>20.4</td>\n",
       "      <td>26.1</td>\n",
       "      <td>14.3</td>\n",
       "    </tr>\n",
       "  </tbody>\n",
       "</table>\n",
       "</div>"
      ],
      "text/plain": [
       "   TA_AVG  TA_MAX  TA_MIN\n",
       "0    20.4    26.1    14.3"
      ]
     },
     "execution_count": 9,
     "metadata": {},
     "output_type": "execute_result"
    }
   ],
   "source": [
    "temperature_df.head(1)"
   ]
  },
  {
   "cell_type": "code",
   "execution_count": 10,
   "id": "06b5f663",
   "metadata": {},
   "outputs": [
    {
     "name": "stdout",
     "output_type": "stream",
     "text": [
      "Using device: cuda\n"
     ]
    }
   ],
   "source": [
    "device = torch.device(\"cuda\" if torch.cuda.is_available() else \"cpu\")\n",
    "print(\"Using device:\", device)"
   ]
  },
  {
   "cell_type": "code",
   "execution_count": 11,
   "id": "ac588545",
   "metadata": {},
   "outputs": [],
   "source": [
    "class AnomalyDetectorLSTM(nn.Module):\n",
    "    def __init__(self, seq_len, n_features):\n",
    "        super(AnomalyDetectorLSTM, self).__init__()\n",
    "        self.seq_len = seq_len\n",
    "        self.n_features = n_features\n",
    "        self.embedding_dim = 4\n",
    "\n",
    "        self.encoder = nn.Sequential(\n",
    "            nn.LSTM(input_size=n_features, hidden_size=16, batch_first=True),\n",
    "            nn.LSTM(input_size=16, hidden_size=self.embedding_dim, batch_first=True)\n",
    "        )\n",
    "\n",
    "        self.decoder = nn.Sequential(\n",
    "            nn.LSTM(input_size=self.embedding_dim, hidden_size=self.embedding_dim, batch_first=True),\n",
    "            nn.LSTM(input_size=self.embedding_dim, hidden_size=16, batch_first=True),\n",
    "            nn.Linear(16, n_features)\n",
    "        )\n",
    "\n",
    "    def forward(self, x):\n",
    "        # Encode\n",
    "        x, _ = self.encoder[0](x)\n",
    "        x, (hidden, _) = self.encoder[1](x)\n",
    "\n",
    "        # Repeat vector\n",
    "        x = hidden.repeat(self.seq_len, 1, 1).permute(1, 0, 2)\n",
    "\n",
    "        # Decode\n",
    "        x, _ = self.decoder[0](x)\n",
    "        x, _ = self.decoder[1](x)\n",
    "        x = self.decoder[2](x)\n",
    "        return x"
   ]
  },
  {
   "cell_type": "code",
   "execution_count": 12,
   "id": "4bee26f6",
   "metadata": {},
   "outputs": [
    {
     "data": {
      "text/plain": [
       "AnomalyDetectorLSTM(\n",
       "  (encoder): Sequential(\n",
       "    (0): LSTM(3, 16, batch_first=True)\n",
       "    (1): LSTM(16, 4, batch_first=True)\n",
       "  )\n",
       "  (decoder): Sequential(\n",
       "    (0): LSTM(4, 4, batch_first=True)\n",
       "    (1): LSTM(4, 16, batch_first=True)\n",
       "    (2): Linear(in_features=16, out_features=3, bias=True)\n",
       "  )\n",
       ")"
      ]
     },
     "execution_count": 12,
     "metadata": {},
     "output_type": "execute_result"
    }
   ],
   "source": [
    "scaler = MinMaxScaler()\n",
    "X = scaler.fit_transform(temperature_df.values)\n",
    "X = X.reshape(X.shape[0], 1, X.shape[1])\n",
    "\n",
    "model_path = os.path.join(project_path, f\"models/lstm_temperature_anomaly_detector.pth\")\n",
    "state_dict = torch.load(model_path, map_location=torch.device('cpu'), weights_only=True)\n",
    "model = AnomalyDetectorLSTM(seq_len=1, n_features=X.shape[2])\n",
    "model.load_state_dict(state_dict)\n",
    "model.to(device)\n",
    "model.eval()"
   ]
  },
  {
   "cell_type": "code",
   "execution_count": 13,
   "id": "195836dc",
   "metadata": {},
   "outputs": [],
   "source": [
    "with torch.no_grad():\n",
    "    X_tensor = torch.tensor(X, dtype=torch.float32)\n",
    "    X_tensor = X_tensor.to(device)\n",
    "    \n",
    "    X_pred = model(X_tensor).detach().cpu().numpy()"
   ]
  },
  {
   "cell_type": "code",
   "execution_count": 14,
   "id": "e8dbfff0",
   "metadata": {},
   "outputs": [],
   "source": [
    "X_pred = X_pred.reshape(X_pred.shape[0], X_pred.shape[2])\n",
    "X_pred_inv = scaler.inverse_transform(X_pred)\n",
    "X_pred_df = pd.DataFrame(X_pred_inv, columns=temperature_df.columns)\n",
    "X_pred_df.index = temperature_df.index"
   ]
  },
  {
   "cell_type": "code",
   "execution_count": 15,
   "id": "7523ffcc",
   "metadata": {},
   "outputs": [],
   "source": [
    "import os\n",
    "import numpy as np\n",
    "import pandas as pd\n",
    "import matplotlib.pyplot as plt\n",
    "import matplotlib.dates as mdates\n",
    "\n",
    "for column in temperature_columns:\n",
    "    scores = X_pred_df.copy()\n",
    "\n",
    "    scores['datetime'] = pd.to_datetime(temperature_df_timestamp['datetime'], errors=\"coerce\")\n",
    "    scores['real'] = temperature_df[column].values\n",
    "    scores['loss_mae'] = np.abs(scores['real'] - scores[column])\n",
    "    scores['Threshold'] = 40\n",
    "    scores['Anomaly'] = (scores['loss_mae'] > scores['Threshold']).astype(int)\n",
    "    scores['anomalies'] = np.where(scores[\"Anomaly\"] == 1, scores[\"real\"], np.nan)\n",
    "\n",
    "    scores = scores.sort_values(\"datetime\").reset_index(drop=True)\n",
    "\n",
    "    inference_output_dir = os.path.join(project_path, 'data/outputs/inference')\n",
    "    os.makedirs(inference_output_dir, exist_ok=True)\n",
    "\n",
    "    fig, ax = plt.subplots(figsize=(12, 5))\n",
    "    ax.plot(scores[\"datetime\"], scores[\"loss_mae\"], label=\"Loss\")\n",
    "    ax.plot(scores[\"datetime\"], scores[\"Threshold\"], label=\"Threshold\", linestyle='--')\n",
    "\n",
    "    ax.xaxis.set_major_locator(mdates.MonthLocator())\n",
    "    ax.xaxis.set_major_formatter(mdates.DateFormatter(\"%Y-%m\"))\n",
    "    plt.xticks(rotation=45)\n",
    "    ax.set_title(\"Loss vs Threshold\")\n",
    "    ax.set_xlabel(\"Datetime\")\n",
    "    ax.set_ylabel(\"Loss\")\n",
    "    ax.legend()\n",
    "    plt.tight_layout()\n",
    "    plt.savefig(os.path.join(inference_output_dir, f\"temperature_{column}_Threshold.png\"))\n",
    "    plt.close()\n",
    "\n",
    "    cols = ['datetime'] + [col for col in scores.columns if col != 'datetime']\n",
    "    scores = scores[cols]\n",
    "    scores[scores[\"Anomaly\"] == 1].to_csv(\n",
    "        os.path.join(inference_output_dir, f'temperature_{column}_anomalies.csv'),\n",
    "        index=False\n",
    "    )\n",
    "\n",
    "    fig, ax = plt.subplots(figsize=(12, 6))\n",
    "    ax.plot(scores[\"datetime\"], scores[\"real\"], label=column)\n",
    "    if scores[\"Anomaly\"].sum() > 0:\n",
    "        mask = scores[\"Anomaly\"] == 1\n",
    "        ax.scatter(scores.loc[mask, \"datetime\"], scores.loc[mask, \"anomalies\"],\n",
    "                   color=\"red\", label=\"Anomaly\", s=25)\n",
    "\n",
    "    ax.xaxis.set_major_locator(mdates.MonthLocator())\n",
    "    ax.xaxis.set_major_formatter(mdates.DateFormatter(\"%Y-%m\"))\n",
    "    plt.xticks(rotation=45)\n",
    "    ax.set_title(\"Anomalies Detected (Inference)\")\n",
    "    ax.set_xlabel(\"Datetime\")\n",
    "    ax.set_ylabel(column)\n",
    "    ax.legend()\n",
    "    plt.tight_layout()\n",
    "    plt.savefig(os.path.join(inference_output_dir, f\"temperature_{column}_Anomaly.png\"))\n",
    "    plt.close()\n"
   ]
  },
  {
   "cell_type": "code",
   "execution_count": null,
   "id": "3ce178e3",
   "metadata": {},
   "outputs": [],
   "source": []
  },
  {
   "cell_type": "code",
   "execution_count": null,
   "id": "ec614333",
   "metadata": {},
   "outputs": [],
   "source": []
  }
 ],
 "metadata": {
  "kernelspec": {
   "display_name": "mlops",
   "language": "python",
   "name": "python3"
  },
  "language_info": {
   "codemirror_mode": {
    "name": "ipython",
    "version": 3
   },
   "file_extension": ".py",
   "mimetype": "text/x-python",
   "name": "python",
   "nbconvert_exporter": "python",
   "pygments_lexer": "ipython3",
   "version": "3.10.13"
  }
 },
 "nbformat": 4,
 "nbformat_minor": 5
}
