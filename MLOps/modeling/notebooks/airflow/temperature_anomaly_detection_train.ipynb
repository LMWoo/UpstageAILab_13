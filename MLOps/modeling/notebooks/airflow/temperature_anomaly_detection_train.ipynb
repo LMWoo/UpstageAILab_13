{
 "cells": [
  {
   "cell_type": "code",
   "execution_count": 1,
   "id": "cf524d76",
   "metadata": {},
   "outputs": [
    {
     "name": "stdout",
     "output_type": "stream",
     "text": [
      "/data/ephemeral/home/mlops-cloud-project-mlops_1/modeling/src/airflow/notebooks/../../../../\n"
     ]
    }
   ],
   "source": [
    "import os\n",
    "import sys\n",
    "\n",
    "project_path = os.path.join( os.getcwd(), '../../../../')\n",
    "sys.path.append(project_path)\n",
    "print(project_path)\n",
    "\n",
    "import numpy as np\n",
    "import pandas as pd\n",
    "import matplotlib.pyplot as plt\n",
    "import matplotlib.dates as mdates\n",
    "import seaborn as sns\n",
    "import torch\n",
    "import torch.nn as nn\n",
    "from torch.utils.data import DataLoader, TensorDataset\n",
    "from sklearn.preprocessing import MinMaxScaler\n",
    "from sklearn.model_selection import train_test_split"
   ]
  },
  {
   "cell_type": "code",
   "execution_count": 2,
   "id": "65c9e25e",
   "metadata": {},
   "outputs": [],
   "source": [
    "temperature_df = pd.read_csv(os.path.join(project_path, 'data/TA_data.csv'))\n",
    "temperature_df_train = temperature_df[-365*5:-365].reset_index(drop=True)\n",
    "temperature_df_inference = temperature_df[-365:].reset_index(drop=True)\n",
    "temperature_df = temperature_df_train"
   ]
  },
  {
   "cell_type": "code",
   "execution_count": 3,
   "id": "f71f81ee",
   "metadata": {},
   "outputs": [
    {
     "data": {
      "text/plain": [
       "(1460, 4)"
      ]
     },
     "execution_count": 3,
     "metadata": {},
     "output_type": "execute_result"
    }
   ],
   "source": [
    "temperature_df.shape"
   ]
  },
  {
   "cell_type": "code",
   "execution_count": 4,
   "id": "60e766da",
   "metadata": {},
   "outputs": [
    {
     "data": {
      "text/html": [
       "<div>\n",
       "<style scoped>\n",
       "    .dataframe tbody tr th:only-of-type {\n",
       "        vertical-align: middle;\n",
       "    }\n",
       "\n",
       "    .dataframe tbody tr th {\n",
       "        vertical-align: top;\n",
       "    }\n",
       "\n",
       "    .dataframe thead th {\n",
       "        text-align: right;\n",
       "    }\n",
       "</style>\n",
       "<table border=\"1\" class=\"dataframe\">\n",
       "  <thead>\n",
       "    <tr style=\"text-align: right;\">\n",
       "      <th></th>\n",
       "      <th>날짜</th>\n",
       "      <th>TA_AVG</th>\n",
       "      <th>TA_MAX</th>\n",
       "      <th>TA_MIN</th>\n",
       "    </tr>\n",
       "  </thead>\n",
       "  <tbody>\n",
       "    <tr>\n",
       "      <th>0</th>\n",
       "      <td>2020-05-29</td>\n",
       "      <td>20.7</td>\n",
       "      <td>27.6</td>\n",
       "      <td>14.6</td>\n",
       "    </tr>\n",
       "  </tbody>\n",
       "</table>\n",
       "</div>"
      ],
      "text/plain": [
       "           날짜  TA_AVG  TA_MAX  TA_MIN\n",
       "0  2020-05-29    20.7    27.6    14.6"
      ]
     },
     "execution_count": 4,
     "metadata": {},
     "output_type": "execute_result"
    }
   ],
   "source": [
    "temperature_df.head(1)"
   ]
  },
  {
   "cell_type": "code",
   "execution_count": 5,
   "id": "bb2e4276",
   "metadata": {},
   "outputs": [],
   "source": [
    "temperature_columns = ['TA_AVG', 'TA_MAX', 'TA_MIN']"
   ]
  },
  {
   "cell_type": "code",
   "execution_count": 6,
   "id": "caf8da5e",
   "metadata": {},
   "outputs": [],
   "source": [
    "temperature_df_timestamp = temperature_df[['날짜']].copy()\n",
    "temperature_df_timestamp.rename(columns={'날짜': 'datetime'}, inplace=True)\n",
    "temperature_df = temperature_df[temperature_columns]"
   ]
  },
  {
   "cell_type": "code",
   "execution_count": 7,
   "id": "13fe8be5",
   "metadata": {},
   "outputs": [
    {
     "data": {
      "text/html": [
       "<div>\n",
       "<style scoped>\n",
       "    .dataframe tbody tr th:only-of-type {\n",
       "        vertical-align: middle;\n",
       "    }\n",
       "\n",
       "    .dataframe tbody tr th {\n",
       "        vertical-align: top;\n",
       "    }\n",
       "\n",
       "    .dataframe thead th {\n",
       "        text-align: right;\n",
       "    }\n",
       "</style>\n",
       "<table border=\"1\" class=\"dataframe\">\n",
       "  <thead>\n",
       "    <tr style=\"text-align: right;\">\n",
       "      <th></th>\n",
       "      <th>datetime</th>\n",
       "    </tr>\n",
       "  </thead>\n",
       "  <tbody>\n",
       "    <tr>\n",
       "      <th>0</th>\n",
       "      <td>2020-05-29</td>\n",
       "    </tr>\n",
       "  </tbody>\n",
       "</table>\n",
       "</div>"
      ],
      "text/plain": [
       "     datetime\n",
       "0  2020-05-29"
      ]
     },
     "execution_count": 7,
     "metadata": {},
     "output_type": "execute_result"
    }
   ],
   "source": [
    "temperature_df_timestamp.head(1)"
   ]
  },
  {
   "cell_type": "code",
   "execution_count": 8,
   "id": "1cac64d7",
   "metadata": {},
   "outputs": [
    {
     "data": {
      "text/html": [
       "<div>\n",
       "<style scoped>\n",
       "    .dataframe tbody tr th:only-of-type {\n",
       "        vertical-align: middle;\n",
       "    }\n",
       "\n",
       "    .dataframe tbody tr th {\n",
       "        vertical-align: top;\n",
       "    }\n",
       "\n",
       "    .dataframe thead th {\n",
       "        text-align: right;\n",
       "    }\n",
       "</style>\n",
       "<table border=\"1\" class=\"dataframe\">\n",
       "  <thead>\n",
       "    <tr style=\"text-align: right;\">\n",
       "      <th></th>\n",
       "      <th>TA_AVG</th>\n",
       "      <th>TA_MAX</th>\n",
       "      <th>TA_MIN</th>\n",
       "    </tr>\n",
       "  </thead>\n",
       "  <tbody>\n",
       "    <tr>\n",
       "      <th>0</th>\n",
       "      <td>20.7</td>\n",
       "      <td>27.6</td>\n",
       "      <td>14.6</td>\n",
       "    </tr>\n",
       "  </tbody>\n",
       "</table>\n",
       "</div>"
      ],
      "text/plain": [
       "   TA_AVG  TA_MAX  TA_MIN\n",
       "0    20.7    27.6    14.6"
      ]
     },
     "execution_count": 8,
     "metadata": {},
     "output_type": "execute_result"
    }
   ],
   "source": [
    "temperature_df.head(1)"
   ]
  },
  {
   "cell_type": "code",
   "execution_count": 9,
   "id": "12a8bec6",
   "metadata": {},
   "outputs": [],
   "source": [
    "train_prp = 0.6\n",
    "train = temperature_df.iloc[:int(temperature_df.shape[0]*train_prp)]\n",
    "test = temperature_df.iloc[int(temperature_df.shape[0]*train_prp):]"
   ]
  },
  {
   "cell_type": "code",
   "execution_count": 10,
   "id": "e11a559c",
   "metadata": {},
   "outputs": [
    {
     "name": "stdout",
     "output_type": "stream",
     "text": [
      "train shape : (876, 1, 3), test shape : (584, 1, 3)\n"
     ]
    }
   ],
   "source": [
    "scaler = MinMaxScaler()\n",
    "X_train = scaler.fit_transform(train)\n",
    "X_test = scaler.transform(test)\n",
    "X_train = X_train.reshape(X_train.shape[0], 1, X_train.shape[1])\n",
    "X_test = X_test.reshape(X_test.shape[0], 1, X_test.shape[1])\n",
    "print(f\"train shape : {X_train.shape}, test shape : {X_test.shape}\")"
   ]
  },
  {
   "cell_type": "code",
   "execution_count": 11,
   "id": "42db77ee",
   "metadata": {},
   "outputs": [],
   "source": [
    "X_train, X_val = train_test_split(X_train, test_size=0.2, random_state=42, shuffle=True)"
   ]
  },
  {
   "cell_type": "code",
   "execution_count": 12,
   "id": "06b5f663",
   "metadata": {},
   "outputs": [
    {
     "name": "stdout",
     "output_type": "stream",
     "text": [
      "Using device: cuda\n"
     ]
    }
   ],
   "source": [
    "device = torch.device(\"cuda\" if torch.cuda.is_available() else \"cpu\")\n",
    "print(\"Using device:\", device)"
   ]
  },
  {
   "cell_type": "code",
   "execution_count": 13,
   "id": "ac588545",
   "metadata": {},
   "outputs": [],
   "source": [
    "class AnomalyDetectorLSTM(nn.Module):\n",
    "    def __init__(self, seq_len, n_features):\n",
    "        super(AnomalyDetectorLSTM, self).__init__()\n",
    "        self.seq_len = seq_len\n",
    "        self.n_features = n_features\n",
    "        self.embedding_dim = 4\n",
    "\n",
    "        self.encoder = nn.Sequential(\n",
    "            nn.LSTM(input_size=n_features, hidden_size=16, batch_first=True),\n",
    "            nn.LSTM(input_size=16, hidden_size=self.embedding_dim, batch_first=True)\n",
    "        )\n",
    "\n",
    "        self.decoder = nn.Sequential(\n",
    "            nn.LSTM(input_size=self.embedding_dim, hidden_size=self.embedding_dim, batch_first=True),\n",
    "            nn.LSTM(input_size=self.embedding_dim, hidden_size=16, batch_first=True),\n",
    "            nn.Linear(16, n_features)\n",
    "        )\n",
    "\n",
    "    def forward(self, x):\n",
    "        # Encode\n",
    "        x, _ = self.encoder[0](x)\n",
    "        x, (hidden, _) = self.encoder[1](x)\n",
    "\n",
    "        # Repeat vector\n",
    "        x = hidden.repeat(self.seq_len, 1, 1).permute(1, 0, 2)\n",
    "\n",
    "        # Decode\n",
    "        x, _ = self.decoder[0](x)\n",
    "        x, _ = self.decoder[1](x)\n",
    "        x = self.decoder[2](x)\n",
    "        return x"
   ]
  },
  {
   "cell_type": "code",
   "execution_count": 14,
   "id": "d3e3c846",
   "metadata": {},
   "outputs": [
    {
     "name": "stdout",
     "output_type": "stream",
     "text": [
      "Epoch [1/10] | Train Loss: 0.5956 | Val Loss: 0.5200\n",
      "Epoch [2/10] | Train Loss: 0.3121 | Val Loss: 0.1424\n",
      "Epoch [3/10] | Train Loss: 0.1462 | Val Loss: 0.1281\n",
      "Epoch [4/10] | Train Loss: 0.1387 | Val Loss: 0.1191\n",
      "Epoch [5/10] | Train Loss: 0.1118 | Val Loss: 0.0774\n",
      "Epoch [6/10] | Train Loss: 0.0715 | Val Loss: 0.0546\n",
      "Epoch [7/10] | Train Loss: 0.0517 | Val Loss: 0.0399\n",
      "Epoch [8/10] | Train Loss: 0.0312 | Val Loss: 0.0273\n",
      "Epoch [9/10] | Train Loss: 0.0245 | Val Loss: 0.0261\n",
      "Epoch [10/10] | Train Loss: 0.0228 | Val Loss: 0.0247\n"
     ]
    }
   ],
   "source": [
    "epochs = 10\n",
    "batch_size = 10\n",
    "learning_rate = 1e-3\n",
    "\n",
    "X_train_tensor = torch.tensor(X_train, dtype=torch.float32)\n",
    "X_val_tensor = torch.tensor(X_val, dtype=torch.float32)\n",
    "\n",
    "train_loader = DataLoader(TensorDataset(X_train_tensor), batch_size=batch_size, shuffle=True)\n",
    "val_loader = DataLoader(TensorDataset(X_val_tensor), batch_size=batch_size, shuffle=False)\n",
    "\n",
    "model = AnomalyDetectorLSTM(seq_len=X_train.shape[1], n_features=X_train.shape[2])\n",
    "model.to(device)\n",
    "criterion = nn.L1Loss()\n",
    "optimizer = torch.optim.Adam(model.parameters(), lr=learning_rate)\n",
    "\n",
    "train_losses = []\n",
    "val_losses = []\n",
    "\n",
    "for epoch in range(epochs):\n",
    "    model.train()\n",
    "    train_epoch_loss = 0\n",
    "    for batch in train_loader:\n",
    "        batch = batch[0]\n",
    "        batch = batch.to(device)\n",
    "        optimizer.zero_grad()\n",
    "        output = model(batch)\n",
    "        loss = criterion(output, batch)\n",
    "        loss.backward()\n",
    "        optimizer.step()\n",
    "        train_epoch_loss += loss.item()\n",
    "    \n",
    "    avg_train_loss = train_epoch_loss / len(train_loader)\n",
    "    train_losses.append(avg_train_loss)\n",
    "\n",
    "    model.eval()\n",
    "    val_epoch_loss = 0\n",
    "    with torch.no_grad():\n",
    "        for batch in val_loader:\n",
    "            batch = batch[0]\n",
    "            batch = batch.to(device)\n",
    "            output = model(batch)\n",
    "            loss = criterion(output, batch)\n",
    "            val_epoch_loss += loss.item()\n",
    "    avg_val_loss = val_epoch_loss / len(val_loader)\n",
    "    val_losses.append(avg_val_loss)\n",
    "\n",
    "    print(f\"Epoch [{epoch+1}/{epochs}] | Train Loss: {avg_train_loss:.4f} | Val Loss: {avg_val_loss:.4f}\")"
   ]
  },
  {
   "cell_type": "code",
   "execution_count": 15,
   "id": "195836dc",
   "metadata": {},
   "outputs": [],
   "source": [
    "model_path = os.path.join(project_path, f\"models/lstm_temperature_anomaly_detector.pth\")\n",
    "torch.save(model.state_dict(), model_path)"
   ]
  },
  {
   "cell_type": "code",
   "execution_count": 16,
   "id": "b50e17ca",
   "metadata": {},
   "outputs": [
    {
     "data": {
      "image/png": "[encoded data removed]",
      "text/plain": [
       "<Figure size 800x500 with 1 Axes>"
      ]
     },
     "metadata": {},
     "output_type": "display_data"
    }
   ],
   "source": [
    "plt.figure(figsize=(8, 5))\n",
    "plt.plot(train_losses, label=\"Train Loss\")\n",
    "plt.plot(val_losses, label=\"Val Loss\")\n",
    "plt.xlabel(\"Epoch\")\n",
    "plt.ylabel(\"Loss\")\n",
    "plt.title(\"Autoencoder MAE Loss over Epochs\")\n",
    "plt.legend()\n",
    "plt.grid()\n",
    "plt.tight_layout()\n",
    "plt.savefig(os.path.join(project_path, f\"data/outputs/train/temperature_Error_Loss.png\"))"
   ]
  },
  {
   "cell_type": "code",
   "execution_count": 17,
   "id": "3b6b4723",
   "metadata": {},
   "outputs": [],
   "source": [
    "with torch.no_grad():\n",
    "    X_tensor = torch.tensor(X_train, dtype=torch.float32)\n",
    "    X_tensor = X_tensor.to(device)\n",
    "    X_pred = model(X_tensor).detach().cpu().numpy()\n",
    "\n",
    "X_pred = X_pred[:, -1, :]\n",
    "X_pred_inv = scaler.inverse_transform(X_pred)\n",
    "pred_df = pd.DataFrame(X_pred_inv, columns=temperature_df.columns)\n",
    "\n",
    "scores = pd.DataFrame()\n",
    "\n",
    "for column in temperature_columns:\n",
    "    scores[f\"{column}_train\"] = temperature_df[column].values[:len(pred_df)]\n",
    "    scores[f\"{column}_predicted\"] = pred_df[column]\n",
    "    scores[f\"{column}_loss_mae\"] = (scores[f\"{column}_train\"] - scores[f\"{column}_predicted\"]).abs()"
   ]
  },
  {
   "cell_type": "code",
   "execution_count": 18,
   "id": "881fdd4c",
   "metadata": {},
   "outputs": [
    {
     "data": {
      "image/png": "[encoded data removed]",
      "text/plain": [
       "<Figure size 800x400 with 1 Axes>"
      ]
     },
     "metadata": {},
     "output_type": "display_data"
    },
    {
     "data": {
      "image/png": "[encoded data removed]",
      "text/plain": [
       "<Figure size 800x400 with 1 Axes>"
      ]
     },
     "metadata": {},
     "output_type": "display_data"
    },
    {
     "data": {
      "image/png": "[encoded data removed]",
      "text/plain": [
       "<Figure size 800x400 with 1 Axes>"
      ]
     },
     "metadata": {},
     "output_type": "display_data"
    }
   ],
   "source": [
    "for column in temperature_columns:\n",
    "    plt.figure(figsize=(8, 4))\n",
    "    plt.hist(scores[f\"{column}_loss_mae\"], bins=50)\n",
    "    plt.title(f\"temperature {column} Error Distribution (Train)\")\n",
    "    plt.xlabel(f\"MAE {column}\")\n",
    "    plt.ylabel(\"Frequency\")\n",
    "    plt.tight_layout()\n",
    "    plt.savefig(os.path.join(project_path, f\"data/outputs/train/temperature_{column}_Error_Distribution.png\"))"
   ]
  },
  {
   "cell_type": "code",
   "execution_count": 19,
   "id": "695a3a5e",
   "metadata": {},
   "outputs": [],
   "source": [
    "with torch.no_grad():\n",
    "    X_tensor = torch.tensor(X_test, dtype=torch.float32)\n",
    "    X_tensor = X_tensor.to(device)\n",
    "    X_pred = model(X_tensor).detach().cpu().numpy()\n",
    "\n",
    "X_pred = X_pred[:, -1, :]\n",
    "X_pred_inv = scaler.inverse_transform(X_pred)\n",
    "X_pred_df = pd.DataFrame(X_pred_inv, columns=temperature_df.columns)\n",
    "X_pred_df.index = test.index"
   ]
  },
  {
   "cell_type": "code",
   "execution_count": 20,
   "id": "725d3d8b",
   "metadata": {},
   "outputs": [],
   "source": [
    "import matplotlib.pyplot as plt\n",
    "import matplotlib.dates as mdates\n",
    "import os\n",
    "import numpy as np\n",
    "import pandas as pd\n",
    "\n",
    "output_dir = os.path.join(project_path, \"data/outputs/train\")\n",
    "os.makedirs(output_dir, exist_ok=True)\n",
    "\n",
    "for column in temperature_columns:\n",
    "    scores = X_pred_df.copy()\n",
    "\n",
    "    scores['datetime'] = pd.to_datetime(temperature_df_timestamp.loc[scores.index, 'datetime'], errors='coerce')\n",
    "    scores['real'] = test[column].values\n",
    "    scores['loss_mae'] = np.abs(scores['real'] - scores[column])\n",
    "    scores['Threshold'] = 10\n",
    "    scores['Anomaly'] = (scores['loss_mae'] > scores['Threshold']).astype(int)\n",
    "    scores['anomalies'] = np.where(scores['Anomaly'] == 1, scores['real'], np.nan)\n",
    "\n",
    "    scores = scores.sort_values(by='datetime').reset_index(drop=True)\n",
    "\n",
    "    fig, ax = plt.subplots(figsize=(12, 5))\n",
    "    ax.plot(scores['datetime'], scores['loss_mae'], label='Loss')\n",
    "    ax.plot(scores['datetime'], scores['Threshold'], label='Threshold', linestyle='--')\n",
    "\n",
    "    ax.xaxis.set_major_locator(mdates.MonthLocator())\n",
    "    ax.xaxis.set_major_formatter(mdates.DateFormatter(\"%Y-%m\"))\n",
    "    plt.xticks(rotation=45)\n",
    "    ax.set_title(\"Loss vs Threshold\")\n",
    "    ax.set_xlabel(\"Datetime\")\n",
    "    ax.set_ylabel(\"Loss\")\n",
    "    ax.legend()\n",
    "    plt.tight_layout()\n",
    "    plt.savefig(os.path.join(output_dir, f\"temperature_{column}_Threshold.png\"))\n",
    "    plt.close()\n",
    "\n",
    "    cols = ['datetime'] + [col for col in scores.columns if col != 'datetime']\n",
    "    scores = scores[cols]\n",
    "    scores[scores[\"Anomaly\"] == 1].to_csv(\n",
    "        os.path.join(output_dir, f\"temperature_{column}_anomalies.csv\"),\n",
    "        index=False\n",
    "    )\n",
    "\n",
    "    fig, ax = plt.subplots(figsize=(12, 6))\n",
    "    ax.plot(scores['datetime'], scores['real'], label=column)\n",
    "\n",
    "    if scores['Anomaly'].sum() > 0:\n",
    "        mask = scores['Anomaly'] == 1\n",
    "        ax.scatter(scores.loc[mask, 'datetime'], scores.loc[mask, 'anomalies'],\n",
    "                   color='red', label='Anomaly', s=25)\n",
    "\n",
    "    ax.xaxis.set_major_locator(mdates.MonthLocator())\n",
    "    ax.xaxis.set_major_formatter(mdates.DateFormatter(\"%Y-%m\"))\n",
    "    plt.xticks(rotation=45)\n",
    "    ax.set_title(\"Anomalies Detected (Test)\")\n",
    "    ax.set_xlabel(\"Datetime\")\n",
    "    ax.set_ylabel(column)\n",
    "    ax.legend()\n",
    "    plt.tight_layout()\n",
    "    plt.savefig(os.path.join(output_dir, f\"temperature_{column}_Anomaly.png\"))\n",
    "    plt.close()\n"
   ]
  },
  {
   "cell_type": "code",
   "execution_count": null,
   "id": "3ce178e3",
   "metadata": {},
   "outputs": [],
   "source": []
  }
 ],
 "metadata": {
  "kernelspec": {
   "display_name": "mlops",
   "language": "python",
   "name": "python3"
  },
  "language_info": {
   "codemirror_mode": {
    "name": "ipython",
    "version": 3
   },
   "file_extension": ".py",
   "mimetype": "text/x-python",
   "name": "python",
   "nbconvert_exporter": "python",
   "pygments_lexer": "ipython3",
   "version": "3.10.13"
  }
 },
 "nbformat": 4,
 "nbformat_minor": 5
}
